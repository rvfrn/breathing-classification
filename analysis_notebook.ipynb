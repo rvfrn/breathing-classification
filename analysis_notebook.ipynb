{
 "cells": [
  {
   "cell_type": "code",
   "execution_count": 4,
   "id": "d5e4737b",
   "metadata": {
    "colab": {
     "base_uri": "https://localhost:8080/",
     "height": 73
    },
    "id": "d5e4737b",
    "outputId": "c2fe9527-82cf-4f27-8419-5a215acc4758"
   },
   "outputs": [
    {
     "data": {
      "text/html": [
       "\n",
       "     <input type=\"file\" id=\"files-e8d667a8-27a2-4358-b8f1-5c991cfb98bf\" name=\"files[]\" multiple disabled\n",
       "        style=\"border:none\" />\n",
       "     <output id=\"result-e8d667a8-27a2-4358-b8f1-5c991cfb98bf\">\n",
       "      Upload widget is only available when the cell has been executed in the\n",
       "      current browser session. Please rerun this cell to enable.\n",
       "      </output>\n",
       "      <script>// Copyright 2017 Google LLC\n",
       "//\n",
       "// Licensed under the Apache License, Version 2.0 (the \"License\");\n",
       "// you may not use this file except in compliance with the License.\n",
       "// You may obtain a copy of the License at\n",
       "//\n",
       "//      http://www.apache.org/licenses/LICENSE-2.0\n",
       "//\n",
       "// Unless required by applicable law or agreed to in writing, software\n",
       "// distributed under the License is distributed on an \"AS IS\" BASIS,\n",
       "// WITHOUT WARRANTIES OR CONDITIONS OF ANY KIND, either express or implied.\n",
       "// See the License for the specific language governing permissions and\n",
       "// limitations under the License.\n",
       "\n",
       "/**\n",
       " * @fileoverview Helpers for google.colab Python module.\n",
       " */\n",
       "(function(scope) {\n",
       "function span(text, styleAttributes = {}) {\n",
       "  const element = document.createElement('span');\n",
       "  element.textContent = text;\n",
       "  for (const key of Object.keys(styleAttributes)) {\n",
       "    element.style[key] = styleAttributes[key];\n",
       "  }\n",
       "  return element;\n",
       "}\n",
       "\n",
       "// Max number of bytes which will be uploaded at a time.\n",
       "const MAX_PAYLOAD_SIZE = 100 * 1024;\n",
       "\n",
       "function _uploadFiles(inputId, outputId) {\n",
       "  const steps = uploadFilesStep(inputId, outputId);\n",
       "  const outputElement = document.getElementById(outputId);\n",
       "  // Cache steps on the outputElement to make it available for the next call\n",
       "  // to uploadFilesContinue from Python.\n",
       "  outputElement.steps = steps;\n",
       "\n",
       "  return _uploadFilesContinue(outputId);\n",
       "}\n",
       "\n",
       "// This is roughly an async generator (not supported in the browser yet),\n",
       "// where there are multiple asynchronous steps and the Python side is going\n",
       "// to poll for completion of each step.\n",
       "// This uses a Promise to block the python side on completion of each step,\n",
       "// then passes the result of the previous step as the input to the next step.\n",
       "function _uploadFilesContinue(outputId) {\n",
       "  const outputElement = document.getElementById(outputId);\n",
       "  const steps = outputElement.steps;\n",
       "\n",
       "  const next = steps.next(outputElement.lastPromiseValue);\n",
       "  return Promise.resolve(next.value.promise).then((value) => {\n",
       "    // Cache the last promise value to make it available to the next\n",
       "    // step of the generator.\n",
       "    outputElement.lastPromiseValue = value;\n",
       "    return next.value.response;\n",
       "  });\n",
       "}\n",
       "\n",
       "/**\n",
       " * Generator function which is called between each async step of the upload\n",
       " * process.\n",
       " * @param {string} inputId Element ID of the input file picker element.\n",
       " * @param {string} outputId Element ID of the output display.\n",
       " * @return {!Iterable<!Object>} Iterable of next steps.\n",
       " */\n",
       "function* uploadFilesStep(inputId, outputId) {\n",
       "  const inputElement = document.getElementById(inputId);\n",
       "  inputElement.disabled = false;\n",
       "\n",
       "  const outputElement = document.getElementById(outputId);\n",
       "  outputElement.innerHTML = '';\n",
       "\n",
       "  const pickedPromise = new Promise((resolve) => {\n",
       "    inputElement.addEventListener('change', (e) => {\n",
       "      resolve(e.target.files);\n",
       "    });\n",
       "  });\n",
       "\n",
       "  const cancel = document.createElement('button');\n",
       "  inputElement.parentElement.appendChild(cancel);\n",
       "  cancel.textContent = 'Cancel upload';\n",
       "  const cancelPromise = new Promise((resolve) => {\n",
       "    cancel.onclick = () => {\n",
       "      resolve(null);\n",
       "    };\n",
       "  });\n",
       "\n",
       "  // Wait for the user to pick the files.\n",
       "  const files = yield {\n",
       "    promise: Promise.race([pickedPromise, cancelPromise]),\n",
       "    response: {\n",
       "      action: 'starting',\n",
       "    }\n",
       "  };\n",
       "\n",
       "  cancel.remove();\n",
       "\n",
       "  // Disable the input element since further picks are not allowed.\n",
       "  inputElement.disabled = true;\n",
       "\n",
       "  if (!files) {\n",
       "    return {\n",
       "      response: {\n",
       "        action: 'complete',\n",
       "      }\n",
       "    };\n",
       "  }\n",
       "\n",
       "  for (const file of files) {\n",
       "    const li = document.createElement('li');\n",
       "    li.append(span(file.name, {fontWeight: 'bold'}));\n",
       "    li.append(span(\n",
       "        `(${file.type || 'n/a'}) - ${file.size} bytes, ` +\n",
       "        `last modified: ${\n",
       "            file.lastModifiedDate ? file.lastModifiedDate.toLocaleDateString() :\n",
       "                                    'n/a'} - `));\n",
       "    const percent = span('0% done');\n",
       "    li.appendChild(percent);\n",
       "\n",
       "    outputElement.appendChild(li);\n",
       "\n",
       "    const fileDataPromise = new Promise((resolve) => {\n",
       "      const reader = new FileReader();\n",
       "      reader.onload = (e) => {\n",
       "        resolve(e.target.result);\n",
       "      };\n",
       "      reader.readAsArrayBuffer(file);\n",
       "    });\n",
       "    // Wait for the data to be ready.\n",
       "    let fileData = yield {\n",
       "      promise: fileDataPromise,\n",
       "      response: {\n",
       "        action: 'continue',\n",
       "      }\n",
       "    };\n",
       "\n",
       "    // Use a chunked sending to avoid message size limits. See b/62115660.\n",
       "    let position = 0;\n",
       "    do {\n",
       "      const length = Math.min(fileData.byteLength - position, MAX_PAYLOAD_SIZE);\n",
       "      const chunk = new Uint8Array(fileData, position, length);\n",
       "      position += length;\n",
       "\n",
       "      const base64 = btoa(String.fromCharCode.apply(null, chunk));\n",
       "      yield {\n",
       "        response: {\n",
       "          action: 'append',\n",
       "          file: file.name,\n",
       "          data: base64,\n",
       "        },\n",
       "      };\n",
       "\n",
       "      let percentDone = fileData.byteLength === 0 ?\n",
       "          100 :\n",
       "          Math.round((position / fileData.byteLength) * 100);\n",
       "      percent.textContent = `${percentDone}% done`;\n",
       "\n",
       "    } while (position < fileData.byteLength);\n",
       "  }\n",
       "\n",
       "  // All done.\n",
       "  yield {\n",
       "    response: {\n",
       "      action: 'complete',\n",
       "    }\n",
       "  };\n",
       "}\n",
       "\n",
       "scope.google = scope.google || {};\n",
       "scope.google.colab = scope.google.colab || {};\n",
       "scope.google.colab._files = {\n",
       "  _uploadFiles,\n",
       "  _uploadFilesContinue,\n",
       "};\n",
       "})(self);\n",
       "</script> "
      ],
      "text/plain": [
       "<IPython.core.display.HTML object>"
      ]
     },
     "metadata": {},
     "output_type": "display_data"
    },
    {
     "name": "stdout",
     "output_type": "stream",
     "text": [
      "Saving breathing_waveform_data.csv to breathing_waveform_data.csv\n"
     ]
    }
   ],
   "source": [
    "from google.colab import files\n",
    "uploaded = files.upload()"
   ]
  },
  {
   "cell_type": "code",
   "execution_count": 5,
   "id": "HI-yZON1dVI2",
   "metadata": {
    "id": "HI-yZON1dVI2"
   },
   "outputs": [],
   "source": [
    "import io\n",
    "import pandas as pd\n",
    "import numpy as np\n",
    "df = pd.read_csv(io.BytesIO(uploaded['breathing_waveform_data.csv']))"
   ]
  },
  {
   "cell_type": "code",
   "execution_count": 1,
   "id": "32c4508e",
   "metadata": {},
   "outputs": [],
   "source": [
    "import pandas as pd\n",
    "import numpy as np\n",
    "df = pd.read_csv('breathing_waveform_data.csv')"
   ]
  },
  {
   "cell_type": "code",
   "execution_count": 2,
   "id": "ac526af4",
   "metadata": {
    "colab": {
     "base_uri": "https://localhost:8080/"
    },
    "id": "ac526af4",
    "outputId": "3f5702db-508d-4bfa-8007-af2732e85d38"
   },
   "outputs": [
    {
     "name": "stdout",
     "output_type": "stream",
     "text": [
      "<class 'pandas.core.frame.DataFrame'>\n",
      "RangeIndex: 26400 entries, 0 to 26399\n",
      "Data columns (total 87 columns):\n",
      " #   Column  Non-Null Count  Dtype  \n",
      "---  ------  --------------  -----  \n",
      " 0   0       26400 non-null  float64\n",
      " 1   1       26400 non-null  float64\n",
      " 2   2       26400 non-null  float64\n",
      " 3   3       26400 non-null  float64\n",
      " 4   4       26400 non-null  float64\n",
      " 5   5       26400 non-null  float64\n",
      " 6   6       26400 non-null  float64\n",
      " 7   7       26400 non-null  float64\n",
      " 8   8       26400 non-null  float64\n",
      " 9   9       26400 non-null  float64\n",
      " 10  10      26400 non-null  float64\n",
      " 11  11      26400 non-null  float64\n",
      " 12  12      26400 non-null  float64\n",
      " 13  13      26400 non-null  float64\n",
      " 14  14      26400 non-null  float64\n",
      " 15  15      26400 non-null  float64\n",
      " 16  16      26400 non-null  float64\n",
      " 17  17      26400 non-null  float64\n",
      " 18  18      26400 non-null  float64\n",
      " 19  19      26400 non-null  float64\n",
      " 20  20      26400 non-null  float64\n",
      " 21  21      26400 non-null  float64\n",
      " 22  22      26400 non-null  float64\n",
      " 23  23      26400 non-null  float64\n",
      " 24  24      26400 non-null  float64\n",
      " 25  25      26400 non-null  float64\n",
      " 26  26      26400 non-null  float64\n",
      " 27  27      26400 non-null  float64\n",
      " 28  28      26400 non-null  float64\n",
      " 29  29      26400 non-null  float64\n",
      " 30  30      26400 non-null  float64\n",
      " 31  31      26400 non-null  float64\n",
      " 32  32      26400 non-null  float64\n",
      " 33  33      26400 non-null  float64\n",
      " 34  34      26400 non-null  float64\n",
      " 35  35      26400 non-null  float64\n",
      " 36  36      26400 non-null  float64\n",
      " 37  37      26400 non-null  float64\n",
      " 38  38      26400 non-null  float64\n",
      " 39  39      26400 non-null  float64\n",
      " 40  40      26400 non-null  float64\n",
      " 41  41      26400 non-null  float64\n",
      " 42  42      26400 non-null  float64\n",
      " 43  43      26400 non-null  float64\n",
      " 44  44      26400 non-null  float64\n",
      " 45  45      26400 non-null  float64\n",
      " 46  46      26400 non-null  float64\n",
      " 47  47      26400 non-null  float64\n",
      " 48  48      26400 non-null  float64\n",
      " 49  49      26400 non-null  float64\n",
      " 50  50      26400 non-null  float64\n",
      " 51  51      26400 non-null  float64\n",
      " 52  52      26400 non-null  float64\n",
      " 53  53      26400 non-null  float64\n",
      " 54  54      26400 non-null  float64\n",
      " 55  55      26400 non-null  float64\n",
      " 56  56      26400 non-null  float64\n",
      " 57  57      26400 non-null  float64\n",
      " 58  58      26400 non-null  float64\n",
      " 59  59      26400 non-null  float64\n",
      " 60  60      26400 non-null  float64\n",
      " 61  61      26400 non-null  float64\n",
      " 62  62      26400 non-null  float64\n",
      " 63  63      26400 non-null  float64\n",
      " 64  64      26400 non-null  float64\n",
      " 65  65      26400 non-null  float64\n",
      " 66  66      26400 non-null  float64\n",
      " 67  67      26400 non-null  float64\n",
      " 68  68      26400 non-null  float64\n",
      " 69  69      26400 non-null  float64\n",
      " 70  70      26400 non-null  float64\n",
      " 71  71      26400 non-null  float64\n",
      " 72  72      26400 non-null  float64\n",
      " 73  73      26400 non-null  float64\n",
      " 74  74      26400 non-null  float64\n",
      " 75  75      26400 non-null  float64\n",
      " 76  76      26400 non-null  float64\n",
      " 77  77      26400 non-null  float64\n",
      " 78  78      26400 non-null  float64\n",
      " 79  79      26400 non-null  float64\n",
      " 80  80      26400 non-null  float64\n",
      " 81  81      26400 non-null  float64\n",
      " 82  82      26400 non-null  float64\n",
      " 83  83      26400 non-null  float64\n",
      " 84  84      26400 non-null  float64\n",
      " 85  labels  26400 non-null  object \n",
      " 86  notes   26400 non-null  object \n",
      "dtypes: float64(85), object(2)\n",
      "memory usage: 17.5+ MB\n"
     ]
    }
   ],
   "source": [
    "# Examining columns\n",
    "df.info()"
   ]
  },
  {
   "cell_type": "code",
   "execution_count": 3,
   "id": "843d7ff3",
   "metadata": {
    "colab": {
     "base_uri": "https://localhost:8080/",
     "height": 238
    },
    "id": "843d7ff3",
    "outputId": "24e7f783-e1a0-475f-b74f-c282a6ce4987"
   },
   "outputs": [
    {
     "data": {
      "text/html": [
       "<div>\n",
       "<style scoped>\n",
       "    .dataframe tbody tr th:only-of-type {\n",
       "        vertical-align: middle;\n",
       "    }\n",
       "\n",
       "    .dataframe tbody tr th {\n",
       "        vertical-align: top;\n",
       "    }\n",
       "\n",
       "    .dataframe thead th {\n",
       "        text-align: right;\n",
       "    }\n",
       "</style>\n",
       "<table border=\"1\" class=\"dataframe\">\n",
       "  <thead>\n",
       "    <tr style=\"text-align: right;\">\n",
       "      <th></th>\n",
       "      <th>0</th>\n",
       "    </tr>\n",
       "    <tr>\n",
       "      <th>labels</th>\n",
       "      <th></th>\n",
       "    </tr>\n",
       "  </thead>\n",
       "  <tbody>\n",
       "    <tr>\n",
       "      <th>normal</th>\n",
       "      <td>19734</td>\n",
       "    </tr>\n",
       "    <tr>\n",
       "      <th>quick</th>\n",
       "      <td>2667</td>\n",
       "    </tr>\n",
       "    <tr>\n",
       "      <th>hold</th>\n",
       "      <td>2133</td>\n",
       "    </tr>\n",
       "    <tr>\n",
       "      <th>deep</th>\n",
       "      <td>1066</td>\n",
       "    </tr>\n",
       "    <tr>\n",
       "      <th>deep_quick</th>\n",
       "      <td>800</td>\n",
       "    </tr>\n",
       "  </tbody>\n",
       "</table>\n",
       "</div>"
      ],
      "text/plain": [
       "                0\n",
       "labels           \n",
       "normal      19734\n",
       "quick        2667\n",
       "hold         2133\n",
       "deep         1066\n",
       "deep_quick    800"
      ]
     },
     "execution_count": 3,
     "metadata": {},
     "output_type": "execute_result"
    }
   ],
   "source": [
    "# Counting each target\n",
    "df.value_counts(['labels']).to_frame()"
   ]
  },
  {
   "cell_type": "code",
   "execution_count": 4,
   "id": "50126c64",
   "metadata": {
    "id": "50126c64"
   },
   "outputs": [],
   "source": [
    "# Drop rows with sum = 0\n",
    "\n",
    "df['mean'] = df.iloc[:,:85].mean(axis=1)\n",
    "df['sum'] = df.iloc[:,:85].sum(axis=1)\n",
    "sum_0 = df[ (df['sum'] == 0)].index\n",
    "df.drop(sum_0 , inplace=True)\n",
    "# df.to_csv(\"updated.csv\")"
   ]
  },
  {
   "cell_type": "code",
   "execution_count": 5,
   "id": "f3cfae0d",
   "metadata": {
    "colab": {
     "base_uri": "https://localhost:8080/",
     "height": 282
    },
    "id": "f3cfae0d",
    "outputId": "08906265-21a6-43dd-83e2-da710572b91a"
   },
   "outputs": [
    {
     "data": {
      "text/plain": [
       "[<matplotlib.lines.Line2D at 0x22fe37b8c10>]"
      ]
     },
     "execution_count": 5,
     "metadata": {},
     "output_type": "execute_result"
    },
    {
     "data": {
      "image/png": "[encoded data removed]",
      "text/plain": [
       "<Figure size 640x480 with 1 Axes>"
      ]
     },
     "metadata": {},
     "output_type": "display_data"
    }
   ],
   "source": [
    "# Visualizing each row\n",
    "import numpy as np\n",
    "import matplotlib.pyplot as plt\n",
    "%matplotlib inline\n",
    "\n",
    "array = df.iloc[:,:85]\n",
    "array = array.to_numpy()\n",
    "array_to_plot = array[500]\n",
    "plt.plot(array_to_plot)"
   ]
  },
  {
   "cell_type": "code",
   "execution_count": 6,
   "id": "85017518",
   "metadata": {
    "id": "85017518"
   },
   "outputs": [],
   "source": [
    "# Taking independent and dependent variables\n",
    "\n",
    "from sklearn.model_selection import cross_val_score\n",
    "import timeit\n",
    "\n",
    "X = df.drop(columns=['labels', 'notes', 'mean', 'sum'])\n",
    "y = df['labels']"
   ]
  },
  {
   "cell_type": "code",
   "execution_count": 7,
   "id": "4ddf6b66",
   "metadata": {
    "id": "4ddf6b66"
   },
   "outputs": [],
   "source": [
    "# Creating model 1 using Decision Tree\n",
    "\n",
    "from sklearn.tree import DecisionTreeClassifier\n",
    "model = DecisionTreeClassifier()"
   ]
  },
  {
   "cell_type": "code",
   "execution_count": 12,
   "id": "1fe26c5c",
   "metadata": {
    "id": "1fe26c5c"
   },
   "outputs": [],
   "source": [
    "# Creating model 2 using Random Forest\n",
    "\n",
    "from sklearn.ensemble import RandomForestClassifier\n",
    "model = RandomForestClassifier()"
   ]
  },
  {
   "cell_type": "code",
   "execution_count": 17,
   "id": "395a1ad4",
   "metadata": {
    "id": "395a1ad4"
   },
   "outputs": [],
   "source": [
    "# Creating model 3 using Naive Bayes\n",
    "\n",
    "from sklearn import naive_bayes\n",
    "model = naive_bayes.GaussianNB()"
   ]
  },
  {
   "cell_type": "code",
   "execution_count": 22,
   "id": "6e028800",
   "metadata": {
    "id": "6e028800"
   },
   "outputs": [],
   "source": [
    "# Creating model 4 using Gradient Boosting\n",
    "\n",
    "from sklearn.ensemble import GradientBoostingClassifier as gbc\n",
    "model = gbc()"
   ]
  },
  {
   "cell_type": "code",
   "execution_count": 27,
   "id": "b35438db",
   "metadata": {
    "id": "b35438db"
   },
   "outputs": [],
   "source": [
    "# Creating model 5 using SVM\n",
    "\n",
    "from sklearn import svm\n",
    "model = svm.SVC()"
   ]
  },
  {
   "cell_type": "code",
   "execution_count": 32,
   "id": "cb83b91a",
   "metadata": {
    "id": "cb83b91a",
    "outputId": "44e51447-d9fe-4fd7-8314-a643c2465956"
   },
   "outputs": [],
   "source": [
    "# Creating model 6 using MLP\n",
    "\n",
    "from sklearn.neural_network import MLPClassifier as mlp\n",
    "model = mlp()"
   ]
  },
  {
   "cell_type": "code",
   "execution_count": 33,
   "id": "3e8315cc",
   "metadata": {
    "colab": {
     "base_uri": "https://localhost:8080/"
    },
    "id": "3e8315cc",
    "outputId": "fa257d4d-2e76-490f-bfde-a36190c64097"
   },
   "outputs": [
    {
     "name": "stdout",
     "output_type": "stream",
     "text": [
      "time:  12.85984709999957\n",
      "The score is:  0.879906723668869\n"
     ]
    },
    {
     "name": "stderr",
     "output_type": "stream",
     "text": [
      "C:\\Users\\IoT-Lab\\anaconda3\\lib\\site-packages\\sklearn\\neural_network\\_multilayer_perceptron.py:692: ConvergenceWarning: Stochastic Optimizer: Maximum iterations (200) reached and the optimization hasn't converged yet.\n",
      "  warnings.warn(\n"
     ]
    }
   ],
   "source": [
    "# Validation: Train-test split\n",
    "\n",
    "from sklearn.model_selection import train_test_split\n",
    "\n",
    "start = timeit.default_timer()\n",
    "X_train, X_test, y_train, y_test = train_test_split(X, y, test_size = 0.2)\n",
    "model.fit(X_train, y_train)\n",
    "score = model.score(X_test, y_test)\n",
    "end = timeit.default_timer()\n",
    "\n",
    "print(\"time: \", end - start)\n",
    "print(\"The score is: \", score)"
   ]
  },
  {
   "cell_type": "code",
   "execution_count": 34,
   "id": "JWIWoPvTezRY",
   "metadata": {
    "colab": {
     "base_uri": "https://localhost:8080/"
    },
    "id": "JWIWoPvTezRY",
    "outputId": "5db29aba-fdc8-4933-aca7-4885a07440f7"
   },
   "outputs": [
    {
     "name": "stderr",
     "output_type": "stream",
     "text": [
      "C:\\Users\\IoT-Lab\\anaconda3\\lib\\site-packages\\sklearn\\neural_network\\_multilayer_perceptron.py:692: ConvergenceWarning: Stochastic Optimizer: Maximum iterations (200) reached and the optimization hasn't converged yet.\n",
      "  warnings.warn(\n",
      "C:\\Users\\IoT-Lab\\anaconda3\\lib\\site-packages\\sklearn\\neural_network\\_multilayer_perceptron.py:692: ConvergenceWarning: Stochastic Optimizer: Maximum iterations (200) reached and the optimization hasn't converged yet.\n",
      "  warnings.warn(\n",
      "C:\\Users\\IoT-Lab\\anaconda3\\lib\\site-packages\\sklearn\\neural_network\\_multilayer_perceptron.py:692: ConvergenceWarning: Stochastic Optimizer: Maximum iterations (200) reached and the optimization hasn't converged yet.\n",
      "  warnings.warn(\n",
      "C:\\Users\\IoT-Lab\\anaconda3\\lib\\site-packages\\sklearn\\neural_network\\_multilayer_perceptron.py:692: ConvergenceWarning: Stochastic Optimizer: Maximum iterations (200) reached and the optimization hasn't converged yet.\n",
      "  warnings.warn(\n",
      "C:\\Users\\IoT-Lab\\anaconda3\\lib\\site-packages\\sklearn\\neural_network\\_multilayer_perceptron.py:692: ConvergenceWarning: Stochastic Optimizer: Maximum iterations (200) reached and the optimization hasn't converged yet.\n",
      "  warnings.warn(\n",
      "C:\\Users\\IoT-Lab\\anaconda3\\lib\\site-packages\\sklearn\\neural_network\\_multilayer_perceptron.py:692: ConvergenceWarning: Stochastic Optimizer: Maximum iterations (200) reached and the optimization hasn't converged yet.\n",
      "  warnings.warn(\n",
      "C:\\Users\\IoT-Lab\\anaconda3\\lib\\site-packages\\sklearn\\neural_network\\_multilayer_perceptron.py:692: ConvergenceWarning: Stochastic Optimizer: Maximum iterations (200) reached and the optimization hasn't converged yet.\n",
      "  warnings.warn(\n",
      "C:\\Users\\IoT-Lab\\anaconda3\\lib\\site-packages\\sklearn\\neural_network\\_multilayer_perceptron.py:692: ConvergenceWarning: Stochastic Optimizer: Maximum iterations (200) reached and the optimization hasn't converged yet.\n",
      "  warnings.warn(\n",
      "C:\\Users\\IoT-Lab\\anaconda3\\lib\\site-packages\\sklearn\\neural_network\\_multilayer_perceptron.py:692: ConvergenceWarning: Stochastic Optimizer: Maximum iterations (200) reached and the optimization hasn't converged yet.\n",
      "  warnings.warn(\n"
     ]
    },
    {
     "name": "stdout",
     "output_type": "stream",
     "text": [
      "The scores are:  [0.04780412 0.51340847 0.88340459 0.9424796  1.         0.96890789\n",
      " 0.72706065 0.72472784 0.88297045 0.06726283]\n",
      "The mean score is:  0.6758026436755904\n",
      "time:  164.2148269999998\n"
     ]
    },
    {
     "name": "stderr",
     "output_type": "stream",
     "text": [
      "C:\\Users\\IoT-Lab\\anaconda3\\lib\\site-packages\\sklearn\\neural_network\\_multilayer_perceptron.py:692: ConvergenceWarning: Stochastic Optimizer: Maximum iterations (200) reached and the optimization hasn't converged yet.\n",
      "  warnings.warn(\n"
     ]
    }
   ],
   "source": [
    "# Cross-validation 1 using K-Folds\n",
    "\n",
    "from sklearn.model_selection import KFold\n",
    "\n",
    "start = timeit.default_timer()\n",
    "skfold = KFold(n_splits = 10)\n",
    "score = cross_val_score(model, X, y, cv = skfold)\n",
    "score_mean = np.mean(score)\n",
    "end = timeit.default_timer()\n",
    "\n",
    "print(\"The scores are: \", score)\n",
    "print(\"The mean score is: \", score_mean)\n",
    "print(\"time: \", end - start)"
   ]
  },
  {
   "cell_type": "code",
   "execution_count": 35,
   "id": "0c1c8b48",
   "metadata": {
    "colab": {
     "base_uri": "https://localhost:8080/"
    },
    "id": "0c1c8b48",
    "outputId": "184b691d-f6d1-49c3-f9f3-cc0c148867af",
    "scrolled": true
   },
   "outputs": [
    {
     "name": "stderr",
     "output_type": "stream",
     "text": [
      "C:\\Users\\IoT-Lab\\anaconda3\\lib\\site-packages\\sklearn\\neural_network\\_multilayer_perceptron.py:692: ConvergenceWarning: Stochastic Optimizer: Maximum iterations (200) reached and the optimization hasn't converged yet.\n",
      "  warnings.warn(\n",
      "C:\\Users\\IoT-Lab\\anaconda3\\lib\\site-packages\\sklearn\\neural_network\\_multilayer_perceptron.py:692: ConvergenceWarning: Stochastic Optimizer: Maximum iterations (200) reached and the optimization hasn't converged yet.\n",
      "  warnings.warn(\n",
      "C:\\Users\\IoT-Lab\\anaconda3\\lib\\site-packages\\sklearn\\neural_network\\_multilayer_perceptron.py:692: ConvergenceWarning: Stochastic Optimizer: Maximum iterations (200) reached and the optimization hasn't converged yet.\n",
      "  warnings.warn(\n",
      "C:\\Users\\IoT-Lab\\anaconda3\\lib\\site-packages\\sklearn\\neural_network\\_multilayer_perceptron.py:692: ConvergenceWarning: Stochastic Optimizer: Maximum iterations (200) reached and the optimization hasn't converged yet.\n",
      "  warnings.warn(\n",
      "C:\\Users\\IoT-Lab\\anaconda3\\lib\\site-packages\\sklearn\\neural_network\\_multilayer_perceptron.py:692: ConvergenceWarning: Stochastic Optimizer: Maximum iterations (200) reached and the optimization hasn't converged yet.\n",
      "  warnings.warn(\n",
      "C:\\Users\\IoT-Lab\\anaconda3\\lib\\site-packages\\sklearn\\neural_network\\_multilayer_perceptron.py:692: ConvergenceWarning: Stochastic Optimizer: Maximum iterations (200) reached and the optimization hasn't converged yet.\n",
      "  warnings.warn(\n",
      "C:\\Users\\IoT-Lab\\anaconda3\\lib\\site-packages\\sklearn\\neural_network\\_multilayer_perceptron.py:692: ConvergenceWarning: Stochastic Optimizer: Maximum iterations (200) reached and the optimization hasn't converged yet.\n",
      "  warnings.warn(\n",
      "C:\\Users\\IoT-Lab\\anaconda3\\lib\\site-packages\\sklearn\\neural_network\\_multilayer_perceptron.py:692: ConvergenceWarning: Stochastic Optimizer: Maximum iterations (200) reached and the optimization hasn't converged yet.\n",
      "  warnings.warn(\n",
      "C:\\Users\\IoT-Lab\\anaconda3\\lib\\site-packages\\sklearn\\neural_network\\_multilayer_perceptron.py:692: ConvergenceWarning: Stochastic Optimizer: Maximum iterations (200) reached and the optimization hasn't converged yet.\n",
      "  warnings.warn(\n"
     ]
    },
    {
     "name": "stdout",
     "output_type": "stream",
     "text": [
      "The scores are:  [0.82432958 0.80606296 0.8169452  0.8321026  0.87135639 0.8736883\n",
      " 0.7503888  0.67496112 0.73872473 0.76788491]\n",
      "The mean score is:  0.7956444601463095\n",
      "time:  165.0074880000002\n"
     ]
    },
    {
     "name": "stderr",
     "output_type": "stream",
     "text": [
      "C:\\Users\\IoT-Lab\\anaconda3\\lib\\site-packages\\sklearn\\neural_network\\_multilayer_perceptron.py:692: ConvergenceWarning: Stochastic Optimizer: Maximum iterations (200) reached and the optimization hasn't converged yet.\n",
      "  warnings.warn(\n"
     ]
    }
   ],
   "source": [
    "# Cross-validation 2 using Stratified K-Folds\n",
    "\n",
    "from sklearn.model_selection import StratifiedKFold\n",
    "\n",
    "start = timeit.default_timer()\n",
    "skfold = StratifiedKFold(n_splits = 10)\n",
    "score = cross_val_score(model, X, y, cv = skfold)\n",
    "score_mean = np.mean(score)\n",
    "end = timeit.default_timer()\n",
    "\n",
    "print(\"The scores are: \", score)\n",
    "print(\"The mean score is: \", score_mean)\n",
    "print(\"time: \", end - start)"
   ]
  },
  {
   "cell_type": "code",
   "execution_count": null,
   "id": "d1036e78",
   "metadata": {
    "id": "d1036e78"
   },
   "outputs": [],
   "source": [
    "# Cross-validation 3 using LeaveOneOut\n",
    "\n",
    "from sklearn.model_selection import LeaveOneOut\n",
    "\n",
    "start = timeit.default_timer()\n",
    "leave_validation = LeaveOneOut()\n",
    "score = cross_val_score(model, X, y, cv = leave_validation)\n",
    "score_mean = np.mean(score)\n",
    "end = timeit.default_timer()\n",
    "\n",
    "print(\"The mean score is: \", score_mean)\n",
    "print(\"time: \", end - start)"
   ]
  },
  {
   "cell_type": "code",
   "execution_count": 36,
   "id": "4e20d700",
   "metadata": {
    "colab": {
     "base_uri": "https://localhost:8080/"
    },
    "id": "4e20d700",
    "outputId": "d5d4ff8f-4e93-46a2-b084-f68fc20deb5c"
   },
   "outputs": [
    {
     "name": "stderr",
     "output_type": "stream",
     "text": [
      "C:\\Users\\IoT-Lab\\anaconda3\\lib\\site-packages\\sklearn\\neural_network\\_multilayer_perceptron.py:692: ConvergenceWarning: Stochastic Optimizer: Maximum iterations (200) reached and the optimization hasn't converged yet.\n",
      "  warnings.warn(\n",
      "C:\\Users\\IoT-Lab\\anaconda3\\lib\\site-packages\\sklearn\\neural_network\\_multilayer_perceptron.py:692: ConvergenceWarning: Stochastic Optimizer: Maximum iterations (200) reached and the optimization hasn't converged yet.\n",
      "  warnings.warn(\n",
      "C:\\Users\\IoT-Lab\\anaconda3\\lib\\site-packages\\sklearn\\neural_network\\_multilayer_perceptron.py:692: ConvergenceWarning: Stochastic Optimizer: Maximum iterations (200) reached and the optimization hasn't converged yet.\n",
      "  warnings.warn(\n",
      "C:\\Users\\IoT-Lab\\anaconda3\\lib\\site-packages\\sklearn\\neural_network\\_multilayer_perceptron.py:692: ConvergenceWarning: Stochastic Optimizer: Maximum iterations (200) reached and the optimization hasn't converged yet.\n",
      "  warnings.warn(\n",
      "C:\\Users\\IoT-Lab\\anaconda3\\lib\\site-packages\\sklearn\\neural_network\\_multilayer_perceptron.py:692: ConvergenceWarning: Stochastic Optimizer: Maximum iterations (200) reached and the optimization hasn't converged yet.\n",
      "  warnings.warn(\n",
      "C:\\Users\\IoT-Lab\\anaconda3\\lib\\site-packages\\sklearn\\neural_network\\_multilayer_perceptron.py:692: ConvergenceWarning: Stochastic Optimizer: Maximum iterations (200) reached and the optimization hasn't converged yet.\n",
      "  warnings.warn(\n",
      "C:\\Users\\IoT-Lab\\anaconda3\\lib\\site-packages\\sklearn\\neural_network\\_multilayer_perceptron.py:692: ConvergenceWarning: Stochastic Optimizer: Maximum iterations (200) reached and the optimization hasn't converged yet.\n",
      "  warnings.warn(\n",
      "C:\\Users\\IoT-Lab\\anaconda3\\lib\\site-packages\\sklearn\\neural_network\\_multilayer_perceptron.py:692: ConvergenceWarning: Stochastic Optimizer: Maximum iterations (200) reached and the optimization hasn't converged yet.\n",
      "  warnings.warn(\n",
      "C:\\Users\\IoT-Lab\\anaconda3\\lib\\site-packages\\sklearn\\neural_network\\_multilayer_perceptron.py:699: UserWarning: Training interrupted by user.\n",
      "  warnings.warn(\"Training interrupted by user.\")\n"
     ]
    },
    {
     "name": "stdout",
     "output_type": "stream",
     "text": [
      "The scores are:  [0.89137194 0.88437621 0.89273222 0.88029538 0.87874077 0.88262728\n",
      " 0.88184998 0.87757482 0.87699184 0.88068403]\n",
      "The mean score is:  0.8827244461717839\n",
      "time:  145.69051260000015\n"
     ]
    },
    {
     "name": "stderr",
     "output_type": "stream",
     "text": [
      "C:\\Users\\IoT-Lab\\anaconda3\\lib\\site-packages\\sklearn\\neural_network\\_multilayer_perceptron.py:692: ConvergenceWarning: Stochastic Optimizer: Maximum iterations (200) reached and the optimization hasn't converged yet.\n",
      "  warnings.warn(\n"
     ]
    }
   ],
   "source": [
    "# Cross-validation 4 using ShuffleSplit\n",
    "\n",
    "from sklearn.model_selection import ShuffleSplit\n",
    "\n",
    "start = timeit.default_timer()\n",
    "shuffle_split = ShuffleSplit(n_splits = 10, test_size = 0.2)\n",
    "score = cross_val_score(model, X, y, cv = shuffle_split)\n",
    "score_mean = np.mean(score)\n",
    "end = timeit.default_timer()\n",
    "\n",
    "print(\"The scores are: \", score)\n",
    "print(\"The mean score is: \", score_mean)\n",
    "print(\"time: \", end - start)"
   ]
  },
  {
   "cell_type": "code",
   "execution_count": null,
   "id": "KtXNcr3OejIG",
   "metadata": {
    "id": "KtXNcr3OejIG"
   },
   "outputs": [],
   "source": []
  }
 ],
 "metadata": {
  "colab": {
   "provenance": [],
   "toc_visible": true
  },
  "kernelspec": {
   "display_name": "Python 3 (ipykernel)",
   "language": "python",
   "name": "python3"
  },
  "language_info": {
   "codemirror_mode": {
    "name": "ipython",
    "version": 3
   },
   "file_extension": ".py",
   "mimetype": "text/x-python",
   "name": "python",
   "nbconvert_exporter": "python",
   "pygments_lexer": "ipython3",
   "version": "3.9.13"
  }
 },
 "nbformat": 4,
 "nbformat_minor": 5
}
